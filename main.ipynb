{
    "cells": [
        {
            "attachments": {},
            "cell_type": "markdown",
            "metadata": {},
            "source": [
                "# Recoinize"
            ]
        },
        {
            "attachments": {},
            "cell_type": "markdown",
            "metadata": {},
            "source": [
                "[https://github.com/nicknochnack/FaceRecognition](https://github.com/nicknochnack/FaceRecognition/blob/main/Facial%20Verification%20with%20a%20Siamese%20Network%20-%20Final.ipynb)"
            ]
        },
        {
            "attachments": {},
            "cell_type": "markdown",
            "metadata": {},
            "source": [
                "## TODOs"
            ]
        },
        {
            "attachments": {},
            "cell_type": "markdown",
            "metadata": {},
            "source": [
                "- [ ] Set up a websocket server to dynamically update srouces files into paperspace\n",
                "- [ ] Update python to the latest version in paperspace\n",
                "- [ ] Update all dependencies\n",
                "- [ ] Use a python environment\n",
                "- [ ] Autodetect the kernel location (local, paperspace)\n",
                "- [ ] Add a nice logger to remove unwanted outputs in the notebook"
            ]
        },
        {
            "attachments": {},
            "cell_type": "markdown",
            "metadata": {},
            "source": [
                "## Settings"
            ]
        },
        {
            "attachments": {},
            "cell_type": "markdown",
            "metadata": {},
            "source": [
                "These are the settings for the notebook. You can change them to fit your needs.\n",
                "\n",
                "- `KERNEL_LOCATION`: (`'local'` or `'paperspace'`) This setting is here to load the right libraries. Paperspace devices have a different setup than local machines.\n",
                "- `LOG_LEVEL`: (`'DEBUG'`, `'INFO'`, `'WARNING'`, `'ERROR'`, `'CRITICAL'`) This setting is here to set the log level for the notebook.\n",
                "- `DATASET_SOURCE`: (`'local'` or `'huggingface'`) This setting is here to load the dataset from the local machine or from the HuggingFace repos.\n",
                "- `DATASET_NAME`: (`str`) This setting is here to set the URL of the HuggingFace repos."
            ]
        },
        {
            "cell_type": "code",
            "execution_count": 22,
            "metadata": {},
            "outputs": [],
            "source": [
                "KERNEL_LOCATION = \"paperspace\"            # TODO: auto-detect kernel location\n",
                "LOG_LEVEL = \"info\"                        # TODO: handle log level\n",
                "DATASET_SOURCE = \"huggingface\"\n",
                "DATASET_NAME = \"photonsquid/coins-euro\""
            ]
        },
        {
            "attachments": {},
            "cell_type": "markdown",
            "metadata": {},
            "source": [
                "Set auto-reload for the notebook, so all modifications in other python files will be loaded automatically in this Notebook."
            ]
        },
        {
            "cell_type": "code",
            "execution_count": 23,
            "metadata": {},
            "outputs": [
                {
                    "name": "stdout",
                    "output_type": "stream",
                    "text": [
                        "The autoreload extension is already loaded. To reload it, use:\n",
                        "  %reload_ext autoreload\n"
                    ]
                }
            ],
            "source": [
                "%load_ext autoreload\n",
                "%autoreload 2"
            ]
        },
        {
            "attachments": {},
            "cell_type": "markdown",
            "metadata": {},
            "source": [
                "If you want, you can check what is your GPU."
            ]
        },
        {
            "cell_type": "code",
            "execution_count": 24,
            "metadata": {},
            "outputs": [
                {
                    "data": {
                        "text/plain": [
                            "'NVIDIA RTX A4000\\n'"
                        ]
                    },
                    "execution_count": 24,
                    "metadata": {},
                    "output_type": "execute_result"
                }
            ],
            "source": [
                "from src.helpers.cmd import print_gpu_name\n",
                "print_gpu_name()"
            ]
        },
        {
            "attachments": {},
            "cell_type": "markdown",
            "metadata": {},
            "source": [
                "## Install dependencies"
            ]
        },
        {
            "attachments": {},
            "cell_type": "markdown",
            "metadata": {},
            "source": [
                "This command will install all the dependencies that are in the `requirements.txt` file."
            ]
        },
        {
            "cell_type": "code",
            "execution_count": 25,
            "metadata": {},
            "outputs": [],
            "source": [
                "from IPython.display import clear_output\n",
                "from src.helpers.install import install_requirements\n",
                "install_requirements()\n",
                "clear_output()"
            ]
        },
        {
            "attachments": {},
            "cell_type": "markdown",
            "metadata": {},
            "source": [
                "## Pull code from GitHub"
            ]
        },
        {
            "attachments": {},
            "cell_type": "markdown",
            "metadata": {},
            "source": [
                "If you're using Paperspace, you have to pull the code from GitHub each time there is a comit.\n",
                "If you're using a local machine, this step is skipped."
            ]
        },
        {
            "cell_type": "code",
            "execution_count": 26,
            "metadata": {},
            "outputs": [
                {
                    "name": "stdout",
                    "output_type": "stream",
                    "text": [
                        "fatal: not a git repository (or any parent up to mount point /)\n",
                        "Stopping at filesystem boundary (GIT_DISCOVERY_ACROSS_FILESYSTEM not set).\n",
                        "fatal: not a git repository (or any parent up to mount point /)\n",
                        "Stopping at filesystem boundary (GIT_DISCOVERY_ACROSS_FILESYSTEM not set).\n"
                    ]
                }
            ],
            "source": [
                "if KERNEL_LOCATION == \"paperspace\":\n",
                "    # from src.helpers.cmd import git_update\n",
                "    # git_update(\"live-edit\", force=True, show_output=False) # TODO: fix errors when running this\n",
                "    !git fetch\n",
                "    !git pull"
            ]
        },
        {
            "attachments": {},
            "cell_type": "markdown",
            "metadata": {},
            "source": [
                "## Import dependencies"
            ]
        },
        {
            "cell_type": "code",
            "execution_count": 27,
            "metadata": {},
            "outputs": [],
            "source": [
                "# Import standard dependencies\n",
                "import cv2\n",
                "import os\n",
                "import random\n",
                "import numpy as np\n",
                "from matplotlib import pyplot as plt\n",
                "from IPython.display import clear_output\n",
                "\n",
                "import tensorflow as tf\n",
                "\n",
                "from src.dataset import create_pairs"
            ]
        },
        {
            "attachments": {},
            "cell_type": "markdown",
            "metadata": {},
            "source": [
                "## Get data"
            ]
        },
        {
            "cell_type": "code",
            "execution_count": 28,
            "metadata": {},
            "outputs": [],
            "source": [
                "if (DATASET_SOURCE == \"huggingface\"):\n",
                "    from datasets.load import load_dataset as HF_load_dataset\n",
                "    dataset = HF_load_dataset('photonsquid/coins-euro')\n",
                "elif (DATASET_SOURCE == \"local\"):\n",
                "    from src.helpers.load_data import load_data as local_load_data\n",
                "    dataset = local_load_data(\"data/tests\")\n",
                "else:\n",
                "    print(\"Invalid dataset source\")\n",
                "clear_output()"
            ]
        },
        {
            "attachments": {},
            "cell_type": "markdown",
            "metadata": {},
            "source": [
                "## Prepare data"
            ]
        },
        {
            "cell_type": "code",
            "execution_count": 29,
            "metadata": {},
            "outputs": [],
            "source": [
                "train_dataset = dataset[\"train\"]"
            ]
        },
        {
            "cell_type": "code",
            "execution_count": 30,
            "metadata": {},
            "outputs": [],
            "source": [
                "anchor_imgs, validation_imgs, labels = create_pairs(train_dataset)"
            ]
        },
        {
            "cell_type": "code",
            "execution_count": 31,
            "metadata": {},
            "outputs": [],
            "source": [
                "# convert imgs and labels to tensors\n",
                "anchor_imgs = tf.convert_to_tensor(anchor_imgs)\n",
                "validation_imgs = tf.convert_to_tensor(validation_imgs)\n",
                "labels = tf.convert_to_tensor(labels)"
            ]
        },
        {
            "cell_type": "code",
            "execution_count": 32,
            "metadata": {},
            "outputs": [],
            "source": [
                "# create a tensorflow dataset\n",
                "data = tf.data.Dataset.from_tensor_slices((anchor_imgs, validation_imgs, labels))"
            ]
        },
        {
            "cell_type": "code",
            "execution_count": 33,
            "metadata": {},
            "outputs": [
                {
                    "data": {
                        "image/png": "[encoded data removed]",
                        "text/plain": [
                            "<Figure size 432x288 with 2 Axes>"
                        ]
                    },
                    "metadata": {
                        "needs_background": "light"
                    },
                    "output_type": "display_data"
                }
            ],
            "source": [
                "for image in data:\n",
                "    anchor = image[0].numpy()\n",
                "    validation = image[1].numpy()\n",
                "    label = \"positive\" if (image[2].numpy() == 1) else \"negative\"\n",
                "\n",
                "    # show the images\n",
                "    plt.subplot(1, 2, 1)\n",
                "    plt.imshow(anchor)\n",
                "    plt.axis('off')\n",
                "    plt.title(\"anchor (\" + str(image[0].shape) + \")\")\n",
                "    plt.subplot(1, 2, 2)\n",
                "    plt.imshow(validation)\n",
                "    plt.axis('off')\n",
                "    plt.title(label + \"(\" + str(image[1].shape) + \")\")\n",
                "    plt.show()\n",
                "\n",
                "    break"
            ]
        },
        {
            "attachments": {},
            "cell_type": "markdown",
            "metadata": {},
            "source": [
                "## Build model"
            ]
        },
        {
            "cell_type": "code",
            "execution_count": 34,
            "metadata": {},
            "outputs": [],
            "source": [
                "from src.models import make_embedding, make_siamese_model"
            ]
        },
        {
            "cell_type": "code",
            "execution_count": 35,
            "metadata": {},
            "outputs": [],
            "source": [
                "embedding = make_embedding()\n",
                "siamese_model = make_siamese_model(embedding)"
            ]
        },
        {
            "cell_type": "code",
            "execution_count": 36,
            "metadata": {},
            "outputs": [],
            "source": [
                "# embedding.summary()"
            ]
        },
        {
            "attachments": {},
            "cell_type": "markdown",
            "metadata": {},
            "source": [
                "| Layer            | (type)         | Output Shape          | Param  |\n",
                "| ---------------- | -------------- | --------------------- | ------ |\n",
                "| input_image      | (InputLayer)   | [(None, 105, 105, 3)] | 0      |\n",
                "| conv2d_16        | (Conv2D)       | (None, 96, 96, 64)    | 19264  |\n",
                "| max_pooling2d_12 | (MaxPooling2D) | (None, 48, 48, 64)    | 0      |\n",
                "| conv2d_17        | (Conv2D)       | (None, 42, 42, 128)   | 401536 |\n",
                "| max_pooling2d_13 | (MaxPooling2D) | (None, 21, 21, 128)   | 0      |\n",
                "| conv2d_18        | (Conv2D)       | (None, 18, 18, 128)   | 262272 |\n",
                "| max_pooling2d_14 | (MaxPooling2D) | (None, 9, 9, 128)     | 0      |\n",
                "| conv2d_19        | (Conv2D)       | (None, 6, 6, 256)     | 524544 |\n",
                "| flatten_4        | (Flatten)      | (None, 9216)          | 0      |\n",
                "\n",
                "- Total params: 38,960,448\n",
                "- Trainable params: 38,960,448\n",
                "- Non-trainable params: 0"
            ]
        },
        {
            "cell_type": "code",
            "execution_count": 37,
            "metadata": {},
            "outputs": [],
            "source": [
                "# siamese_model.summary()"
            ]
        },
        {
            "attachments": {},
            "cell_type": "markdown",
            "metadata": {},
            "source": [
                "| Layer          | (type)       | Output Shape          | Param    | Connected to                               |\n",
                "| -------------- | ------------ | --------------------- | -------- | ------------------------------------------ |\n",
                "| input_img      | (InputLayer) | [(None, 105, 105, 3)] | 0        | []                                         |\n",
                "| validation_img | (InputLayer) | [(None, 105, 105, 3)] | 0        | []                                         |\n",
                "| embedding      | (Functional) | (None, 4096)          | 38960448 | `['input_img[0][0]','validation_img[0][0]']` |\n",
                "| distance       | (L1Dist)     | (None, 4096)          | 0        | `['embedding[0][0]','embedding[1][0]']`      |\n",
                "| dense_8        | (Dense)      | (None, 1)             | 4097     | `['distance[0][0]']`                         |\n",
                "\n",
                "- Total params: 38,964,545\n",
                "- Trainable params: 38,964,545\n",
                "- Non-trainable params: 0\n"
            ]
        },
        {
            "cell_type": "code",
            "execution_count": 38,
            "metadata": {},
            "outputs": [],
            "source": [
                "data = data.cache()\n",
                "data = data.shuffle(buffer_size=10000)\n",
                "\n",
                "\n",
                "# Training partition\n",
                "# size of one batch\n",
                "train_data = data.batch(16)\n",
                "\n",
                "# prefetch data for faster training (prefetching means that the data is\n",
                "# preprocessed (e.g. batched) while the model is training on the previous batch)\n",
                "# 8 is the number of batches that will be prepared in advance\n",
                "train_data = train_data.prefetch(8)\n",
                "\n",
                "binary_cross_loss = tf.losses.BinaryCrossentropy()\n",
                "opt = tf.keras.optimizers.Adam(1e-4)  # 0.0001\n",
                "\n",
                "checkpoint_dir = './training_checkpoints'\n",
                "checkpoint_prefix = os.path.join(checkpoint_dir, 'ckpt')\n",
                "checkpoint = tf.train.Checkpoint(opt=opt, siamese_model=siamese_model)"
            ]
        },
        {
            "cell_type": "code",
            "execution_count": 39,
            "metadata": {},
            "outputs": [],
            "source": [
                "@tf.function\n",
                "def train_step(batch):\n",
                "\n",
                "    # Record all of our operations\n",
                "    with tf.GradientTape() as tape:\n",
                "        # Get anchor and positive/negative image\n",
                "        X = batch[:2]\n",
                "        # Get label\n",
                "        y = batch[2]\n",
                "\n",
                "        # Forward pass\n",
                "        yhat = siamese_model(X, training=True)\n",
                "        # Calculate loss\n",
                "        loss = binary_cross_loss(y, yhat)\n",
                "    # print(loss)\n",
                "\n",
                "    # Calculate gradients\n",
                "    grad = tape.gradient(loss, siamese_model.trainable_variables)\n",
                "\n",
                "    # Calculate updated weights and apply to siamese model\n",
                "    opt.apply_gradients(zip(grad, siamese_model.trainable_variables))\n",
                "\n",
                "    # Return loss\n",
                "    return loss"
            ]
        },
        {
            "cell_type": "code",
            "execution_count": 40,
            "metadata": {},
            "outputs": [],
            "source": [
                "from IPython import display\n",
                "import pylab as pl\n",
                "import time\n",
                "%matplotlib inline\n",
                "\n",
                "\n",
                "def update_graph(loss, r, p):\n",
                "    pl.figure(figsize=(10, 8))\n",
                "    pl.plot(loss, label='loss')\n",
                "    pl.plot(r, label='recall')\n",
                "    pl.plot(p, label='precision')\n",
                "    pl.legend()\n",
                "    display.clear_output(wait=True)\n",
                "    display.display(pl.gcf())\n"
            ]
        },
        {
            "cell_type": "code",
            "execution_count": 41,
            "metadata": {},
            "outputs": [],
            "source": [
                "from tensorflow.keras.metrics import Precision, Recall\n",
                "\n",
                "losses = []\n",
                "precisions = []\n",
                "\n",
                "def train(data, EPOCHS):\n",
                "    # Loop through epochs\n",
                "    for epoch in range(1, EPOCHS+1):\n",
                "        clear_output(wait=True)\n",
                "        print('\\n Epoch {}/{}'.format(epoch, EPOCHS), end=\"\")\n",
                "        # progbar = tf.keras.utils.Progbar(len(data))\n",
                "\n",
                "        # Creating a metric object\n",
                "        r = Recall()\n",
                "        p = Precision()\n",
                "\n",
                "        # Loop through each batch\n",
                "        for idx, batch in enumerate(data):\n",
                "            # Run train step here\n",
                "            loss = train_step(batch)\n",
                "            yhat = siamese_model.predict(batch[:2], verbose=0)\n",
                "            r.update_state(batch[2], yhat)\n",
                "            p.update_state(batch[2], yhat)\n",
                "            # progbar.update(idx+1)\n",
                "            print(\"Epoch \" + str(epoch) + \"/\" + str(EPOCHS) + \" - \" + str(idx) + \"/\" + str(len(data)) + \" - loss: \" + str(loss.numpy()) + \" - recall: \" + str(r.result().numpy()) + \" - precision: \" + str(p.result().numpy()) + \" - \", end=\"\\r\")\n",
                "        # print(loss.numpy(), r.result().numpy(), p.result().numpy())\n",
                "        # update_graph(loss.numpy(), r.result().numpy(), p.result().numpy())\n",
                "        losses.append(loss.numpy())\n",
                "        precisions.append(p.result().numpy())\n",
                "        # Save checkpoints\n",
                "        if epoch % 10 == 0:\n",
                "            checkpoint.save(file_prefix=checkpoint_prefix)\n"
            ]
        },
        {
            "cell_type": "code",
            "execution_count": 42,
            "metadata": {},
            "outputs": [
                {
                    "name": "stdout",
                    "output_type": "stream",
                    "text": [
                        "\n",
                        "Epoch 10/10 - 241/242 - loss: 0.48501164 - recall: 0.82008594 - precision: 0.84551495 - \r"
                    ]
                }
            ],
            "source": [
                "EPOCHS = 10\n",
                "train(train_data, EPOCHS)"
            ]
        },
        {
            "attachments": {},
            "cell_type": "markdown",
            "metadata": {},
            "source": [
                "## Evaluate model"
            ]
        },
        {
            "cell_type": "code",
            "execution_count": null,
            "metadata": {},
            "outputs": [],
            "source": [
                "test_dataset = dataset[\"test\"]"
            ]
        },
        {
            "cell_type": "code",
            "execution_count": null,
            "metadata": {},
            "outputs": [],
            "source": [
                "test_anchor_imgs, test_validation_imgs, test_labels = create_pairs(test_dataset)"
            ]
        },
        {
            "cell_type": "code",
            "execution_count": null,
            "metadata": {},
            "outputs": [],
            "source": [
                "# convert imgs and labels to tensors\n",
                "test_anchor_imgs = tf.convert_to_tensor(test_anchor_imgs)\n",
                "test_validation_imgs = tf.convert_to_tensor(test_validation_imgs)\n",
                "test_labels = tf.convert_to_tensor(test_labels)"
            ]
        },
        {
            "cell_type": "code",
            "execution_count": null,
            "metadata": {},
            "outputs": [],
            "source": [
                "# create a tensorflow dataset\n",
                "test_data = tf.data.Dataset.from_tensor_slices(\n",
                "    (test_anchor_imgs, test_validation_imgs, test_labels))"
            ]
        },
        {
            "cell_type": "code",
            "execution_count": null,
            "metadata": {},
            "outputs": [],
            "source": [
                "test_data = test_data.cache()\n",
                "test_data = test_data.shuffle(buffer_size=10000)\n",
                "test_data = test_data.batch(16)\n",
                "test_data = test_data.prefetch(8)"
            ]
        },
        {
            "cell_type": "code",
            "execution_count": null,
            "metadata": {},
            "outputs": [],
            "source": [
                "test_input, test_val, y_true = test_data.as_numpy_iterator().next()"
            ]
        },
        {
            "cell_type": "code",
            "execution_count": null,
            "metadata": {},
            "outputs": [
                {
                    "name": "stdout",
                    "output_type": "stream",
                    "text": [
                        "1/1 [==============================] - 0s 81ms/step\n"
                    ]
                }
            ],
            "source": [
                "y_hat = siamese_model.predict([test_input, test_val])"
            ]
        },
        {
            "cell_type": "code",
            "execution_count": null,
            "metadata": {},
            "outputs": [],
            "source": [
                "# Post processing the results\n",
                "results = np.array([1 if prediction > 0.5 else 0 for prediction in y_hat])"
            ]
        },
        {
            "cell_type": "code",
            "execution_count": null,
            "metadata": {},
            "outputs": [
                {
                    "data": {
                        "text/plain": [
                            "0.6875"
                        ]
                    },
                    "execution_count": 30,
                    "metadata": {},
                    "output_type": "execute_result"
                }
            ],
            "source": [
                "# compute difference between predicted and true labels\n",
                "diff = results - np.array(y_true)\n",
                "\n",
                "# compute accuracy\n",
                "accuracy = 1 - (np.count_nonzero(diff) / len(diff))\n",
                "accuracy"
            ]
        },
        {
            "cell_type": "code",
            "execution_count": null,
            "metadata": {},
            "outputs": [],
            "source": [
                "def get_image(img, label):\n",
                "    # for an image, get the embedding\n",
                "    img = tf.expand_dims(img, axis=0)\n",
                "    embedding = siamese_model.get_layer(\"embedding\").predict(img)\n",
                "    return embedding, label"
            ]
        },
        {
            "cell_type": "code",
            "execution_count": null,
            "metadata": {},
            "outputs": [],
            "source": [
                "# plot losses\n",
                "# plt.plot(losses)\n",
                "# plot precision\n",
                "plt.plot(precisions)\n",
                "plt.xlabel(\"Epochs\")\n",
                "\n",
                "\n",
                "plt.title(\"Precision\")\n",
                "plt.show()\n"
            ]
        }
    ],
    "metadata": {
        "kernelspec": {
            "display_name": "Python 3 (ipykernel)",
            "language": "python",
            "name": "python3"
        },
        "language_info": {
            "codemirror_mode": {
                "name": "ipython",
                "version": 3
            },
            "file_extension": ".py",
            "mimetype": "text/x-python",
            "name": "python",
            "nbconvert_exporter": "python",
            "pygments_lexer": "ipython3",
            "version": "3.9.13"
        },
        "orig_nbformat": 4,
        "vscode": {
            "interpreter": {
                "hash": "916dbcbb3f70747c44a77c7bcd40155683ae19c65e1c03b4aa3499c5328201f1"
            }
        }
    },
    "nbformat": 4,
    "nbformat_minor": 2
}
