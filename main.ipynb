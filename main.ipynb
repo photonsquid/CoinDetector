{
 "cells": [
  {
   "attachments": {},
   "cell_type": "markdown",
   "metadata": {},
   "source": [
    "# Recoinize"
   ]
  },
  {
   "attachments": {},
   "cell_type": "markdown",
   "metadata": {},
   "source": [
    "[https://github.com/nicknochnack/FaceRecognition](https://github.com/nicknochnack/FaceRecognition/blob/main/Facial%20Verification%20with%20a%20Siamese%20Network%20-%20Final.ipynb)"
   ]
  },
  {
   "attachments": {},
   "cell_type": "markdown",
   "metadata": {},
   "source": [
    "# Setup"
   ]
  },
  {
   "attachments": {},
   "cell_type": "markdown",
   "metadata": {},
   "source": [
    "## Pull code from GitHub"
   ]
  },
  {
   "cell_type": "code",
   "execution_count": null,
   "metadata": {},
   "outputs": [],
   "source": [
    "%load_ext autoreload\n",
    "%autoreload 2\n",
    "\n",
    "from src.helpers.cmd import git_update, print_gpu_name\n",
    "from src.helpers.install import install_requirements\n",
    "# git_update(\"live-edit\", force=False, show_output=False)\n",
    "# install_requirements()"
   ]
  },
  {
   "cell_type": "code",
   "execution_count": 65,
   "metadata": {},
   "outputs": [
    {
     "name": "stdout",
     "output_type": "stream",
     "text": [
      "remote: Enumerating objects: 101, done.\u001b[K\n",
      "remote: Counting objects: 100% (74/74), done.\u001b[K\n",
      "remote: Compressing objects: 100% (27/27), done.\u001b[K\n",
      "remote: Total 101 (delta 59), reused 62 (delta 47), pack-reused 27\u001b[K\n",
      "Receiving objects: 100% (101/101), 12.69 KiB | 51.00 KiB/s, done.\n",
      "Resolving deltas: 100% (72/72), completed with 6 local objects.\n",
      "From https://github.com/photonsquid/Recoinize\n",
      "   ae7dbb3..cd8604e  live-edit  -> origin/live-edit\n",
      "Updating ae7dbb3..cd8604e\n",
      "Fast-forward\n",
      " main.ipynb                                        | 100 \u001b[32m+++++++++++++++\u001b[m\u001b[31m-------\u001b[m\n",
      " src/dataset.py                                    |  34 \u001b[32m+++++\u001b[m\u001b[31m---\u001b[m\n",
      " src/helpers/__pycache__/load_data.cpython-310.pyc | Bin \u001b[31m856\u001b[m -> \u001b[32m866\u001b[m bytes\n",
      " src/helpers/load_data.py                          |  16 \u001b[32m++\u001b[m\u001b[31m--\u001b[m\n",
      " 4 files changed, 101 insertions(+), 49 deletions(-)\n"
     ]
    }
   ],
   "source": [
    "!git fetch\n",
    "!git pull"
   ]
  },
  {
   "cell_type": "code",
   "execution_count": 7,
   "metadata": {},
   "outputs": [
    {
     "data": {
      "text/plain": [
       "'Quadro P5000\\n'"
      ]
     },
     "execution_count": 7,
     "metadata": {},
     "output_type": "execute_result"
    }
   ],
   "source": [
    "print_gpu_name()"
   ]
  },
  {
   "attachments": {},
   "cell_type": "markdown",
   "metadata": {},
   "source": [
    "## Import dependencies"
   ]
  },
  {
   "cell_type": "code",
   "execution_count": 47,
   "metadata": {},
   "outputs": [],
   "source": [
    "testing = False"
   ]
  },
  {
   "cell_type": "code",
   "execution_count": 66,
   "metadata": {},
   "outputs": [],
   "source": [
    "# Import standard dependencies\n",
    "import cv2\n",
    "import os\n",
    "import random\n",
    "import numpy as np\n",
    "from matplotlib import pyplot as plt\n",
    "\n",
    "# Import tensorflow dependencies - Functional API\n",
    "if not testing:\n",
    "    import tensorflow as tf\n",
    "    from tensorflow import keras\n",
    "    from keras.layers import Dense, Layer, Conv2D, Dense, MaxPooling2D, Input, Flatten\n",
    "    from keras.models import Sequential, load_model, Model\n",
    "    from datasets import load_dataset\n",
    "\n",
    "    from src.models import make_embedding, make_siamese_model\n",
    "    from src.helpers.setup import set_gpus_growth\n",
    "    from src.dataset import create_pairs\n",
    "    from src.preprocess import preprocess\n",
    "\n",
    "    set_gpus_growth()\n",
    "else:\n",
    "    print(\"Testing mode, skipping tensorflow imports\")\n",
    "    from src.helpers.load_data import load_data\n",
    "    from src.dataset import create_pairs\n"
   ]
  },
  {
   "attachments": {},
   "cell_type": "markdown",
   "metadata": {},
   "source": [
    "# Get and preprocess data"
   ]
  },
  {
   "cell_type": "code",
   "execution_count": 73,
   "metadata": {},
   "outputs": [
    {
     "name": "stderr",
     "output_type": "stream",
     "text": [
      "Using custom data configuration photonsquid--coins-euro-b75261052d3e19e0\n",
      "Reusing dataset parquet (/root/.cache/huggingface/datasets/photonsquid___parquet/photonsquid--coins-euro-b75261052d3e19e0/0.0.0/7328ef7ee03eaf3f86ae40594d46a1cec86161704e02dd19f232d81eee72ade8)\n"
     ]
    },
    {
     "data": {
      "application/vnd.jupyter.widget-view+json": {
       "model_id": "857e22e9a27c480c95ed09544d057afd",
       "version_major": 2,
       "version_minor": 0
      },
      "text/plain": [
       "  0%|          | 0/3 [00:00<?, ?it/s]"
      ]
     },
     "metadata": {},
     "output_type": "display_data"
    }
   ],
   "source": [
    "# Load the dataset from HuggingFace\n",
    "if not testing:\n",
    "    dataset = load_dataset('photonsquid/coins-euro')\n",
    "else:\n",
    "    # load data from local files\n",
    "    dataset = load_data(\"data/tests\")"
   ]
  },
  {
   "cell_type": "code",
   "execution_count": 74,
   "metadata": {},
   "outputs": [],
   "source": [
    "# Split the dataset into train and test\n",
    "train_dataset = dataset['train']\n",
    "test_dataset = dataset['test']"
   ]
  },
  {
   "cell_type": "code",
   "execution_count": 75,
   "metadata": {},
   "outputs": [
    {
     "data": {
      "text/plain": [
       "{'value': '10cents', 'country': 'ad', 'edition': 'standard', 'variant': '0'}"
      ]
     },
     "execution_count": 75,
     "metadata": {},
     "output_type": "execute_result"
    }
   ],
   "source": [
    "train_dataset[0]['labels']"
   ]
  },
  {
   "cell_type": "code",
   "execution_count": 76,
   "metadata": {},
   "outputs": [
    {
     "name": "stdout",
     "output_type": "stream",
     "text": [
      "10cents\n",
      "1cent\n",
      "1euro\n",
      "20cents\n",
      "2cents\n",
      "2euro\n",
      "50cents\n",
      "5cents\n"
     ]
    }
   ],
   "source": [
    "# create the pairs and labels for the training dataset\n",
    "train_dataset = create_pairs(train_dataset)\n",
    "\n",
    "# convert it to a tensorflow dataset\n",
    "# train_dataset = tf.data.Dataset.from_tensor_slices(train_dataset)"
   ]
  },
  {
   "cell_type": "code",
   "execution_count": 80,
   "metadata": {},
   "outputs": [
    {
     "ename": "TypeError",
     "evalue": "a bytes-like object is required, not 'dict'",
     "output_type": "error",
     "traceback": [
      "\u001b[0;31m---------------------------------------------------------------------------\u001b[0m",
      "\u001b[0;31mTypeError\u001b[0m                                 Traceback (most recent call last)",
      "\u001b[1;32m/home/chap/repos/cours/06-mdl/Recoinize/main.ipynb Cell 16\u001b[0m in \u001b[0;36m<cell line: 4>\u001b[0;34m()\u001b[0m\n\u001b[1;32m      <a href='vscode-notebook-cell:/home/chap/repos/cours/06-mdl/Recoinize/main.ipynb#X21sZmlsZQ%3D%3D?line=0'>1</a>\u001b[0m \u001b[39m# show first pair in subplot with plt\u001b[39;00m\n\u001b[1;32m      <a href='vscode-notebook-cell:/home/chap/repos/cours/06-mdl/Recoinize/main.ipynb#X21sZmlsZQ%3D%3D?line=2'>3</a>\u001b[0m byte_img \u001b[39m=\u001b[39m train_dataset[\u001b[39m0\u001b[39m][\u001b[39m0\u001b[39m]\n\u001b[0;32m----> <a href='vscode-notebook-cell:/home/chap/repos/cours/06-mdl/Recoinize/main.ipynb#X21sZmlsZQ%3D%3D?line=3'>4</a>\u001b[0m img \u001b[39m=\u001b[39m cv2\u001b[39m.\u001b[39mimdecode(np\u001b[39m.\u001b[39;49mfrombuffer(byte_img, np\u001b[39m.\u001b[39;49muint8), cv2\u001b[39m.\u001b[39mIMREAD_COLOR)\n\u001b[1;32m      <a href='vscode-notebook-cell:/home/chap/repos/cours/06-mdl/Recoinize/main.ipynb#X21sZmlsZQ%3D%3D?line=4'>5</a>\u001b[0m plt\u001b[39m.\u001b[39mimshow(img)\n\u001b[1;32m      <a href='vscode-notebook-cell:/home/chap/repos/cours/06-mdl/Recoinize/main.ipynb#X21sZmlsZQ%3D%3D?line=5'>6</a>\u001b[0m plt\u001b[39m.\u001b[39mshow()\n",
      "\u001b[0;31mTypeError\u001b[0m: a bytes-like object is required, not 'dict'"
     ]
    }
   ],
   "source": [
    "# show first pair in subplot with plt\n",
    "\n",
    "byte_img = train_dataset[0][0]\n",
    "\n",
    "# img = cv2.imdecode(np.frombuffer(byte_img, np.uint8), cv2.IMREAD_COLOR)\n",
    "# plt.imshow(img)\n",
    "# plt.show()\n"
   ]
  },
  {
   "cell_type": "code",
   "execution_count": null,
   "metadata": {},
   "outputs": [],
   "source": [
    "# prepare the dataset for training\n",
    "train_dataset = train_dataset.shuffle(1000)\n",
    "train_dataset = train_dataset.batch(32)\n",
    "train_dataset = train_dataset.prefetch(tf.data.experimental.AUTOTUNE)\n",
    "\n",
    "# prepare the dataset for testing\n",
    "test_dataset = test_dataset.shuffle(1000)\n",
    "test_dataset = test_dataset.batch(32)\n",
    "test_dataset = test_dataset.prefetch(tf.data.experimental.AUTOTUNE)"
   ]
  }
 ],
 "metadata": {
  "kernelspec": {
   "display_name": "Python 3 (ipykernel)",
   "language": "python",
   "name": "python3"
  },
  "language_info": {
   "codemirror_mode": {
    "name": "ipython",
    "version": 3
   },
   "file_extension": ".py",
   "mimetype": "text/x-python",
   "name": "python",
   "nbconvert_exporter": "python",
   "pygments_lexer": "ipython3",
   "version": "3.9.13"
  },
  "orig_nbformat": 4,
  "vscode": {
   "interpreter": {
    "hash": "916dbcbb3f70747c44a77c7bcd40155683ae19c65e1c03b4aa3499c5328201f1"
   }
  }
 },
 "nbformat": 4,
 "nbformat_minor": 2
}
