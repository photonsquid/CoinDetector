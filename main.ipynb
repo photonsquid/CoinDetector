{
    "cells": [
        {
            "attachments": {},
            "cell_type": "markdown",
            "metadata": {},
            "source": [
                "# Recoinize"
            ]
        },
        {
            "attachments": {},
            "cell_type": "markdown",
            "metadata": {},
            "source": [
                "[https://github.com/nicknochnack/FaceRecognition](https://github.com/nicknochnack/FaceRecognition/blob/main/Facial%20Verification%20with%20a%20Siamese%20Network%20-%20Final.ipynb)"
            ]
        },
        {
            "attachments": {},
            "cell_type": "markdown",
            "metadata": {},
            "source": [
                "## TODOs"
            ]
        },
        {
            "attachments": {},
            "cell_type": "markdown",
            "metadata": {},
            "source": [
                "- [ ] Set up a websocket server to dynamically update srouces files into paperspace\n",
                "- [ ] Update python to the latest version in paperspace\n",
                "- [ ] Update all dependencies\n",
                "- [ ] Use a python environment\n",
                "- [ ] Autodetect the kernel location (local, paperspace)\n",
                "- [ ] Add a nice logger to remove unwanted outputs in the notebook"
            ]
        },
        {
            "attachments": {},
            "cell_type": "markdown",
            "metadata": {},
            "source": [
                "## Settings"
            ]
        },
        {
            "attachments": {},
            "cell_type": "markdown",
            "metadata": {},
            "source": [
                "These are the settings for the notebook. You can change them to fit your needs.\n",
                "\n",
                "- `KERNEL_LOCATION`: (`'local'` or `'paperspace'`) This setting is here to load the right libraries. Paperspace devices have a different setup than local machines.\n",
                "- `LOG_LEVEL`: (`'DEBUG'`, `'INFO'`, `'WARNING'`, `'ERROR'`, `'CRITICAL'`) This setting is here to set the log level for the notebook.\n",
                "- `DATASET_SOURCE`: (`'local'` or `'huggingface'`) This setting is here to load the dataset from the local machine or from the HuggingFace repos.\n",
                "- `DATASET_NAME`: (`str`) This setting is here to set the URL of the HuggingFace repos."
            ]
        },
        {
            "cell_type": "code",
            "execution_count": 1,
            "metadata": {},
            "outputs": [],
            "source": [
                "# TODO: auto-detect kernel location\n",
                "KERNEL_LOCATION = \"paperspace\"\n",
                "LOG_LEVEL = \"info\"                       # TODO: handle log level\n",
                "DATASET_SOURCE = \"huggingface\"\n",
                "DATASET_NAME = \"photonsquid/coins-euro\""
            ]
        },
        {
            "attachments": {},
            "cell_type": "markdown",
            "metadata": {},
            "source": [
                "Set auto-reload for the notebook, so all modifications in other python files will be loaded automatically in this Notebook."
            ]
        },
        {
            "cell_type": "code",
            "execution_count": 2,
            "metadata": {},
            "outputs": [],
            "source": [
                "%load_ext autoreload\n",
                "%autoreload 2"
            ]
        },
        {
            "attachments": {},
            "cell_type": "markdown",
            "metadata": {},
            "source": [
                "If you want, you can check what is your GPU."
            ]
        },
        {
            "cell_type": "code",
            "execution_count": 3,
            "metadata": {},
            "outputs": [
                {
                    "data": {
                        "text/plain": [
                            "'Quadro RTX 5000\\n'"
                        ]
                    },
                    "execution_count": 3,
                    "metadata": {},
                    "output_type": "execute_result"
                }
            ],
            "source": [
                "from src.helpers.cmd import print_gpu_name\n",
                "print_gpu_name()"
            ]
        },
        {
            "attachments": {},
            "cell_type": "markdown",
            "metadata": {},
            "source": [
                "## Install dependencies"
            ]
        },
        {
            "attachments": {},
            "cell_type": "markdown",
            "metadata": {},
            "source": [
                "This command will install all the dependencies that are in the `requirements.txt` file."
            ]
        },
        {
            "cell_type": "code",
            "execution_count": null,
            "metadata": {},
            "outputs": [],
            "source": [
                "from src.helpers.install import install_requirements\n",
                "if KERNEL_LOCATION == \"paperspace\":\n",
                "    install_requirements()"
            ]
        },
        {
            "attachments": {},
            "cell_type": "markdown",
            "metadata": {},
            "source": [
                "## Pull code from GitHub"
            ]
        },
        {
            "attachments": {},
            "cell_type": "markdown",
            "metadata": {},
            "source": [
                "If you're using Paperspace, you have to pull the code from GitHub each time there is a comit.\n",
                "If you're using a local machine, this step is skipped."
            ]
        },
        {
            "cell_type": "code",
            "execution_count": null,
            "metadata": {},
            "outputs": [],
            "source": [
                "if KERNEL_LOCATION == \"paperspace\":\n",
                "    # from src.helpers.cmd import git_update\n",
                "    # git_update(\"live-edit\", force=True, show_output=False) # TODO: fix errors when running this\n",
                "    !git fetch --all\n",
                "    !git checkout live-edit\n",
                "    !git reset --hard"
            ]
        },
        {
            "attachments": {},
            "cell_type": "markdown",
            "metadata": {},
            "source": [
                "## Import dependencies"
            ]
        },
        {
            "cell_type": "code",
            "execution_count": 6,
            "metadata": {},
            "outputs": [],
            "source": [
                "# Import standard dependencies\n",
                "import cv2\n",
                "import os\n",
                "import random\n",
                "import numpy as np\n",
                "from matplotlib import pyplot as plt\n",
                "\n",
                "import tensorflow as tf\n",
                "\n",
                "from src.dataset import create_pairs"
            ]
        },
        {
            "attachments": {},
            "cell_type": "markdown",
            "metadata": {},
            "source": [
                "## Get data"
            ]
        },
        {
            "cell_type": "code",
            "execution_count": 7,
            "metadata": {},
            "outputs": [
                {
                    "data": {
                        "application/vnd.jupyter.widget-view+json": {
                            "model_id": "34928bd040fa48a9b82acd926681e042",
                            "version_major": 2,
                            "version_minor": 0
                        },
                        "text/plain": [
                            "Downloading readme:   0%|          | 0.00/533 [00:00<?, ?B/s]"
                        ]
                    },
                    "metadata": {},
                    "output_type": "display_data"
                },
                {
                    "name": "stderr",
                    "output_type": "stream",
                    "text": [
                        "Using custom data configuration photonsquid--coins-euro-b75261052d3e19e0\n"
                    ]
                },
                {
                    "name": "stdout",
                    "output_type": "stream",
                    "text": [
                        "Downloading and preparing dataset None/None to /root/.cache/huggingface/datasets/photonsquid___parquet/photonsquid--coins-euro-b75261052d3e19e0/0.0.0/2a3b91fbd88a2c90d1dbbb32b460cf621d31bd5b05b934492fdef7d8d6f236ec...\n"
                    ]
                },
                {
                    "data": {
                        "application/vnd.jupyter.widget-view+json": {
                            "model_id": "977e04b1d4434d5089afa9684c3bd3a0",
                            "version_major": 2,
                            "version_minor": 0
                        },
                        "text/plain": [
                            "Downloading data files:   0%|          | 0/3 [00:00<?, ?it/s]"
                        ]
                    },
                    "metadata": {},
                    "output_type": "display_data"
                },
                {
                    "data": {
                        "application/vnd.jupyter.widget-view+json": {
                            "model_id": "ff78cb27636b4485a76a1dc5eafbc021",
                            "version_major": 2,
                            "version_minor": 0
                        },
                        "text/plain": [
                            "Downloading data:   0%|          | 0.00/27.1M [00:00<?, ?B/s]"
                        ]
                    },
                    "metadata": {},
                    "output_type": "display_data"
                },
                {
                    "data": {
                        "application/vnd.jupyter.widget-view+json": {
                            "model_id": "ebe3bb681e41400fbbafa92b3a12cadf",
                            "version_major": 2,
                            "version_minor": 0
                        },
                        "text/plain": [
                            "Downloading data:   0%|          | 0.00/95.0M [00:00<?, ?B/s]"
                        ]
                    },
                    "metadata": {},
                    "output_type": "display_data"
                },
                {
                    "data": {
                        "application/vnd.jupyter.widget-view+json": {
                            "model_id": "6b67de3e21f3411783bbf458bc851b06",
                            "version_major": 2,
                            "version_minor": 0
                        },
                        "text/plain": [
                            "Downloading data:   0%|          | 0.00/13.5M [00:00<?, ?B/s]"
                        ]
                    },
                    "metadata": {},
                    "output_type": "display_data"
                },
                {
                    "data": {
                        "application/vnd.jupyter.widget-view+json": {
                            "model_id": "ab0ad457498242f28fd812f8a48cda1c",
                            "version_major": 2,
                            "version_minor": 0
                        },
                        "text/plain": [
                            "Extracting data files:   0%|          | 0/3 [00:00<?, ?it/s]"
                        ]
                    },
                    "metadata": {},
                    "output_type": "display_data"
                },
                {
                    "data": {
                        "application/vnd.jupyter.widget-view+json": {
                            "model_id": "035d3da0296c462eb99e20fb13e52822",
                            "version_major": 2,
                            "version_minor": 0
                        },
                        "text/plain": [
                            "Generating validation split:   0%|          | 0/552 [00:00<?, ? examples/s]"
                        ]
                    },
                    "metadata": {},
                    "output_type": "display_data"
                },
                {
                    "data": {
                        "application/vnd.jupyter.widget-view+json": {
                            "model_id": "68e47d0e16b742eab92f287a52a77a95",
                            "version_major": 2,
                            "version_minor": 0
                        },
                        "text/plain": [
                            "Generating train split:   0%|          | 0/1932 [00:00<?, ? examples/s]"
                        ]
                    },
                    "metadata": {},
                    "output_type": "display_data"
                },
                {
                    "data": {
                        "application/vnd.jupyter.widget-view+json": {
                            "model_id": "13625ff916ee40a486bcac0974e08655",
                            "version_major": 2,
                            "version_minor": 0
                        },
                        "text/plain": [
                            "Generating test split:   0%|          | 0/276 [00:00<?, ? examples/s]"
                        ]
                    },
                    "metadata": {},
                    "output_type": "display_data"
                },
                {
                    "name": "stdout",
                    "output_type": "stream",
                    "text": [
                        "Dataset parquet downloaded and prepared to /root/.cache/huggingface/datasets/photonsquid___parquet/photonsquid--coins-euro-b75261052d3e19e0/0.0.0/2a3b91fbd88a2c90d1dbbb32b460cf621d31bd5b05b934492fdef7d8d6f236ec. Subsequent calls will reuse this data.\n"
                    ]
                },
                {
                    "data": {
                        "application/vnd.jupyter.widget-view+json": {
                            "model_id": "82cae1fb50084618a6fa0e2a53dd8e12",
                            "version_major": 2,
                            "version_minor": 0
                        },
                        "text/plain": [
                            "  0%|          | 0/3 [00:00<?, ?it/s]"
                        ]
                    },
                    "metadata": {},
                    "output_type": "display_data"
                }
            ],
            "source": [
                "if (DATASET_SOURCE == \"huggingface\"):\n",
                "    from datasets.load import load_dataset as HF_load_dataset\n",
                "    dataset = HF_load_dataset('photonsquid/coins-euro')\n",
                "elif (DATASET_SOURCE == \"local\"):\n",
                "    from src.helpers.load_data import load_data as local_load_data\n",
                "    dataset = local_load_data(\"data/tests\")\n",
                "else:\n",
                "    print(\"Invalid dataset source\")"
            ]
        },
        {
            "attachments": {},
            "cell_type": "markdown",
            "metadata": {},
            "source": [
                "## Prepare data"
            ]
        },
        {
            "cell_type": "code",
            "execution_count": 8,
            "metadata": {},
            "outputs": [],
            "source": [
                "train_dataset = dataset[\"train\"]"
            ]
        },
        {
            "cell_type": "code",
            "execution_count": 9,
            "metadata": {},
            "outputs": [],
            "source": [
                "anchor_imgs, validation_imgs, labels = create_pairs(train_dataset)"
            ]
        },
        {
            "cell_type": "code",
            "execution_count": 10,
            "metadata": {},
            "outputs": [],
            "source": [
                "# convert imgs and labels to tensors\n",
                "anchor_imgs = tf.convert_to_tensor(anchor_imgs)\n",
                "validation_imgs = tf.convert_to_tensor(validation_imgs)\n",
                "labels = tf.convert_to_tensor(labels)"
            ]
        },
        {
            "cell_type": "code",
            "execution_count": 11,
            "metadata": {},
            "outputs": [],
            "source": [
                "# create a tensorflow dataset\n",
                "data = tf.data.Dataset.from_tensor_slices((anchor_imgs, validation_imgs, labels))"
            ]
        },
        {
            "cell_type": "code",
            "execution_count": 12,
            "metadata": {},
            "outputs": [
                {
                    "data": {
                        "image/png": "[encoded data removed]",
                        "text/plain": [
                            "<Figure size 432x288 with 2 Axes>"
                        ]
                    },
                    "metadata": {
                        "needs_background": "light"
                    },
                    "output_type": "display_data"
                }
            ],
            "source": [
                "for image in data:\n",
                "    anchor = image[0].numpy()\n",
                "    validation = image[1].numpy()\n",
                "    label = \"positive\" if (image[2].numpy() == 1) else \"negative\"\n",
                "\n",
                "    # show the images\n",
                "    plt.subplot(1, 2, 1)\n",
                "    plt.imshow(anchor)\n",
                "    plt.axis('off')\n",
                "    plt.title(\"anchor (\" + str(image[0].shape) + \")\")\n",
                "    plt.subplot(1, 2, 2)\n",
                "    plt.imshow(validation)\n",
                "    plt.axis('off')\n",
                "    plt.title(label + \"(\" + str(image[1].shape) + \")\")\n",
                "    plt.show()\n",
                "\n",
                "    break"
            ]
        },
        {
            "attachments": {},
            "cell_type": "markdown",
            "metadata": {},
            "source": [
                "## Build model"
            ]
        },
        {
            "cell_type": "code",
            "execution_count": 13,
            "metadata": {},
            "outputs": [],
            "source": [
                "from src.models import make_embedding, make_siamese_model"
            ]
        },
        {
            "cell_type": "code",
            "execution_count": 14,
            "metadata": {},
            "outputs": [],
            "source": [
                "embedding = make_embedding()\n",
                "siamese_model = make_siamese_model(embedding)"
            ]
        },
        {
            "cell_type": "code",
            "execution_count": 15,
            "metadata": {},
            "outputs": [
                {
                    "name": "stdout",
                    "output_type": "stream",
                    "text": [
                        "Model: \"embedding\"\n",
                        "_________________________________________________________________\n",
                        " Layer (type)                Output Shape              Param #   \n",
                        "=================================================================\n",
                        " input_image (InputLayer)    [(None, 105, 105, 3)]     0         \n",
                        "                                                                 \n",
                        " conv2d (Conv2D)             (None, 96, 96, 64)        19264     \n",
                        "                                                                 \n",
                        " max_pooling2d (MaxPooling2D  (None, 48, 48, 64)       0         \n",
                        " )                                                               \n",
                        "                                                                 \n",
                        " conv2d_1 (Conv2D)           (None, 42, 42, 128)       401536    \n",
                        "                                                                 \n",
                        " max_pooling2d_1 (MaxPooling  (None, 21, 21, 128)      0         \n",
                        " 2D)                                                             \n",
                        "                                                                 \n",
                        " conv2d_2 (Conv2D)           (None, 18, 18, 128)       262272    \n",
                        "                                                                 \n",
                        " max_pooling2d_2 (MaxPooling  (None, 9, 9, 128)        0         \n",
                        " 2D)                                                             \n",
                        "                                                                 \n",
                        " conv2d_3 (Conv2D)           (None, 6, 6, 256)         524544    \n",
                        "                                                                 \n",
                        " flatten (Flatten)           (None, 9216)              0         \n",
                        "                                                                 \n",
                        " dense (Dense)               (None, 4096)              37752832  \n",
                        "                                                                 \n",
                        "=================================================================\n",
                        "Total params: 38,960,448\n",
                        "Trainable params: 38,960,448\n",
                        "Non-trainable params: 0\n",
                        "_________________________________________________________________\n"
                    ]
                }
            ],
            "source": [
                "embedding.summary()"
            ]
        },
        {
            "attachments": {},
            "cell_type": "markdown",
            "metadata": {},
            "source": [
                "| Layer            | (type)         | Output Shape          | Param  |\n",
                "| ---------------- | -------------- | --------------------- | ------ |\n",
                "| input_image      | (InputLayer)   | [(None, 105, 105, 3)] | 0      |\n",
                "| conv2d_16        | (Conv2D)       | (None, 96, 96, 64)    | 19264  |\n",
                "| max_pooling2d_12 | (MaxPooling2D) | (None, 48, 48, 64)    | 0      |\n",
                "| conv2d_17        | (Conv2D)       | (None, 42, 42, 128)   | 401536 |\n",
                "| max_pooling2d_13 | (MaxPooling2D) | (None, 21, 21, 128)   | 0      |\n",
                "| conv2d_18        | (Conv2D)       | (None, 18, 18, 128)   | 262272 |\n",
                "| max_pooling2d_14 | (MaxPooling2D) | (None, 9, 9, 128)     | 0      |\n",
                "| conv2d_19        | (Conv2D)       | (None, 6, 6, 256)     | 524544 |\n",
                "| flatten_4        | (Flatten)      | (None, 9216)          | 0      |\n",
                "\n",
                "- Total params: 38,960,448\n",
                "- Trainable params: 38,960,448\n",
                "- Non-trainable params: 0"
            ]
        },
        {
            "cell_type": "code",
            "execution_count": 16,
            "metadata": {},
            "outputs": [
                {
                    "name": "stdout",
                    "output_type": "stream",
                    "text": [
                        "Model: \"SiameseNetwork\"\n",
                        "__________________________________________________________________________________________________\n",
                        " Layer (type)                   Output Shape         Param #     Connected to                     \n",
                        "==================================================================================================\n",
                        " input_img (InputLayer)         [(None, 105, 105, 3  0           []                               \n",
                        "                                )]                                                                \n",
                        "                                                                                                  \n",
                        " validation_img (InputLayer)    [(None, 105, 105, 3  0           []                               \n",
                        "                                )]                                                                \n",
                        "                                                                                                  \n",
                        " embedding (Functional)         (None, 4096)         38960448    ['input_img[0][0]',              \n",
                        "                                                                  'validation_img[0][0]']         \n",
                        "                                                                                                  \n",
                        " distance (L1Dist)              (None, 4096)         0           ['embedding[0][0]',              \n",
                        "                                                                  'embedding[1][0]']              \n",
                        "                                                                                                  \n",
                        " dense_1 (Dense)                (None, 1)            4097        ['distance[0][0]']               \n",
                        "                                                                                                  \n",
                        "==================================================================================================\n",
                        "Total params: 38,964,545\n",
                        "Trainable params: 38,964,545\n",
                        "Non-trainable params: 0\n",
                        "__________________________________________________________________________________________________\n"
                    ]
                }
            ],
            "source": [
                "siamese_model.summary()"
            ]
        },
        {
            "attachments": {},
            "cell_type": "markdown",
            "metadata": {},
            "source": [
                "| Layer          | (type)       | Output Shape          | Param    | Connected to                               |\n",
                "| -------------- | ------------ | --------------------- | -------- | ------------------------------------------ |\n",
                "| input_img      | (InputLayer) | [(None, 105, 105, 3)] | 0        | []                                         |\n",
                "| validation_img | (InputLayer) | [(None, 105, 105, 3)] | 0        | []                                         |\n",
                "| embedding      | (Functional) | (None, 4096)          | 38960448 | `['input_img[0][0]','validation_img[0][0]']` |\n",
                "| distance       | (L1Dist)     | (None, 4096)          | 0        | `['embedding[0][0]','embedding[1][0]']`      |\n",
                "| dense_8        | (Dense)      | (None, 1)             | 4097     | `['distance[0][0]']`                         |\n",
                "\n",
                "- Total params: 38,964,545\n",
                "- Trainable params: 38,964,545\n",
                "- Non-trainable params: 0\n"
            ]
        },
        {
            "cell_type": "code",
            "execution_count": 17,
            "metadata": {},
            "outputs": [],
            "source": [
                "data = data.cache()\n",
                "data = data.shuffle(buffer_size=10000)\n",
                "\n",
                "\n",
                "# Training partition\n",
                "# size of one batch\n",
                "train_data = data.batch(16)\n",
                "\n",
                "# prefetch data for faster training (prefetching means that the data is\n",
                "# preprocessed (e.g. batched) while the model is training on the previous batch)\n",
                "# 8 is the number of batches that will be prepared in advance\n",
                "train_data = train_data.prefetch(8)\n",
                "\n",
                "binary_cross_loss = tf.losses.BinaryCrossentropy()\n",
                "opt = tf.keras.optimizers.Adam(1e-4)  # 0.0001\n",
                "\n",
                "checkpoint_dir = './training_checkpoints'\n",
                "checkpoint_prefix = os.path.join(checkpoint_dir, 'ckpt')\n",
                "checkpoint = tf.train.Checkpoint(opt=opt, siamese_model=siamese_model)"
            ]
        },
        {
            "cell_type": "code",
            "execution_count": 18,
            "metadata": {},
            "outputs": [],
            "source": [
                "@tf.function\n",
                "def train_step(batch):\n",
                "\n",
                "    # Record all of our operations\n",
                "    with tf.GradientTape() as tape:\n",
                "        # Get anchor and positive/negative image\n",
                "        X = batch[:2]\n",
                "        # Get label\n",
                "        y = batch[2]\n",
                "\n",
                "        # Forward pass\n",
                "        yhat = siamese_model(X, training=True)\n",
                "        # Calculate loss\n",
                "        loss = binary_cross_loss(y, yhat)\n",
                "    print(loss)\n",
                "\n",
                "    # Calculate gradients\n",
                "    grad = tape.gradient(loss, siamese_model.trainable_variables)\n",
                "\n",
                "    # Calculate updated weights and apply to siamese model\n",
                "    opt.apply_gradients(zip(grad, siamese_model.trainable_variables))\n",
                "\n",
                "    # Return loss\n",
                "    return loss"
            ]
        },
        {
            "cell_type": "code",
            "execution_count": null,
            "metadata": {},
            "outputs": [],
            "source": [
                "from random import uniform\n",
                "import time\n",
                "from IPython.display import display, clear_output\n",
                "\n",
                "\n",
                "def black_box():\n",
                "    i = 1\n",
                "    for i in range (10):\n",
                "        print(\"coucou \" + str(i))\n",
                "        for j in range (10):\n",
                "            print('Iteration', j, 'Score:', uniform(0, 1), end='')\n",
                "            time.sleep(0.5)\n",
                "            print('', end='\\r')  # or even print('\\r', end='')\n",
                "\n",
                "# black_box()\n"
            ]
        },
        {
            "cell_type": "code",
            "execution_count": 19,
            "metadata": {},
            "outputs": [],
            "source": [
                "from tensorflow.keras.metrics import Precision, Recall\n",
                "from IPython.display import clear_output\n",
                "\n",
                "def train(data, EPOCHS):\n",
                "    # Loop through epochs\n",
                "    for epoch in range(1, EPOCHS+1):\n",
                "        print('\\n Epoch {}/{}'.format(epoch, EPOCHS))\n",
                "        progbar = tf.keras.utils.Progbar(len(data))\n",
                "\n",
                "        # Creating a metric object\n",
                "        r = Recall()\n",
                "        p = Precision()\n",
                "\n",
                "        # Loop through each batch\n",
                "        for idx, batch in enumerate(data):\n",
                "            # Run train step here\n",
                "            loss = train_step(batch)\n",
                "            yhat = siamese_model.predict(batch[:2])\n",
                "            r.update_state(batch[2], yhat)\n",
                "            p.update_state(batch[2], yhat)\n",
                "            progbar.update(idx+1)\n",
                "            print('', end='\\r')\n",
                "\n",
                "        print(loss.numpy(), r.result().numpy(), p.result().numpy())\n",
                "\n",
                "        # Save checkpoints\n",
                "        if epoch % 10 == 0:\n",
                "            checkpoint.save(file_prefix=checkpoint_prefix)"
            ]
        },
        {
            "cell_type": "code",
            "execution_count": null,
            "metadata": {},
            "outputs": [],
            "source": [
                "EPOCHS = 50\n",
                "train(train_data, EPOCHS)"
            ]
        },
        {
            "attachments": {},
            "cell_type": "markdown",
            "metadata": {},
            "source": [
                "## Evaluate model"
            ]
        },
        {
            "cell_type": "code",
            "execution_count": null,
            "metadata": {},
            "outputs": [],
            "source": [
                "test_dataset = dataset[\"test\"]"
            ]
        },
        {
            "cell_type": "code",
            "execution_count": null,
            "metadata": {},
            "outputs": [],
            "source": [
                "test_anchor_imgs, test_validation_imgs, test_labels = create_pairs(test_dataset)"
            ]
        },
        {
            "cell_type": "code",
            "execution_count": null,
            "metadata": {},
            "outputs": [],
            "source": [
                "# convert imgs and labels to tensors\n",
                "test_anchor_imgs = tf.convert_to_tensor(test_anchor_imgs)\n",
                "test_validation_imgs = tf.convert_to_tensor(test_validation_imgs)\n",
                "test_labels = tf.convert_to_tensor(test_labels)"
            ]
        },
        {
            "cell_type": "code",
            "execution_count": null,
            "metadata": {},
            "outputs": [],
            "source": [
                "# create a tensorflow dataset\n",
                "test_data = tf.data.Dataset.from_tensor_slices(\n",
                "    (test_anchor_imgs, test_validation_imgs, test_labels))"
            ]
        },
        {
            "cell_type": "code",
            "execution_count": null,
            "metadata": {},
            "outputs": [],
            "source": [
                "test_data = test_data.cache()\n",
                "test_data = test_data.shuffle(buffer_size=10000)\n",
                "test_data = test_data.batch(16)\n",
                "test_data = test_data.prefetch(8)"
            ]
        },
        {
            "cell_type": "code",
            "execution_count": null,
            "metadata": {},
            "outputs": [],
            "source": [
                "test_input, test_val, y_true = test_data.as_numpy_iterator().next()"
            ]
        },
        {
            "cell_type": "code",
            "execution_count": null,
            "metadata": {},
            "outputs": [],
            "source": [
                "y_hat = siamese_model.predict([test_input, test_val])"
            ]
        },
        {
            "cell_type": "code",
            "execution_count": null,
            "metadata": {},
            "outputs": [],
            "source": [
                "# Post processing the results\n",
                "results = np.array([1 if prediction > 0.5 else 0 for prediction in y_hat])"
            ]
        },
        {
            "cell_type": "code",
            "execution_count": null,
            "metadata": {},
            "outputs": [],
            "source": [
                "# compute difference between predicted and true labels\n",
                "diff = results - np.array(y_true)\n",
                "\n",
                "# compute accuracy\n",
                "accuracy = 1 - (np.count_nonzero(diff) / len(diff))\n",
                "accuracy"
            ]
        }
    ],
    "metadata": {
        "kernelspec": {
            "display_name": "Python 3 (ipykernel)",
            "language": "python",
            "name": "python3"
        },
        "language_info": {
            "codemirror_mode": {
                "name": "ipython",
                "version": 3
            },
            "file_extension": ".py",
            "mimetype": "text/x-python",
            "name": "python",
            "nbconvert_exporter": "python",
            "pygments_lexer": "ipython3",
            "version": "3.9.13"
        },
        "orig_nbformat": 4,
        "vscode": {
            "interpreter": {
                "hash": "916dbcbb3f70747c44a77c7bcd40155683ae19c65e1c03b4aa3499c5328201f1"
            }
        }
    },
    "nbformat": 4,
    "nbformat_minor": 2
}
