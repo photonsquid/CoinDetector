{
 "cells": [
  {
   "attachments": {},
   "cell_type": "markdown",
   "metadata": {},
   "source": [
    "# Recoinize"
   ]
  },
  {
   "attachments": {},
   "cell_type": "markdown",
   "metadata": {},
   "source": [
    "# 1. Setup"
   ]
  },
  {
   "attachments": {},
   "cell_type": "markdown",
   "metadata": {},
   "source": [
    "## 1.1. Pull code from GitHub"
   ]
  },
  {
   "cell_type": "code",
   "execution_count": 39,
   "metadata": {},
   "outputs": [],
   "source": [
    "from src.helpers.cmd import git_update, print_gpu_name\n",
    "from src.helpers.install import install_requirements\n",
    "git_update(\"live-edit\", force=False, show_output=False)\n",
    "# install_requirements()"
   ]
  },
  {
   "cell_type": "code",
   "execution_count": 40,
   "metadata": {},
   "outputs": [
    {
     "name": "stdout",
     "output_type": "stream",
     "text": [
      "b'NVIDIA RTX A4000\\n'\n"
     ]
    }
   ],
   "source": [
    "print_gpu_name()"
   ]
  },
  {
   "attachments": {},
   "cell_type": "markdown",
   "metadata": {},
   "source": [
    "## 1.4. Import dependencies"
   ]
  },
  {
   "cell_type": "code",
   "execution_count": 38,
   "metadata": {},
   "outputs": [],
   "source": [
    "# Import standard dependencies\n",
    "import cv2\n",
    "import os\n",
    "import random\n",
    "import numpy as np\n",
    "from matplotlib import pyplot as plt\n",
    "\n",
    "# Import tensorflow dependencies - Functional API\n",
    "import tensorflow as tf\n",
    "from tensorflow import keras\n",
    "from keras.layers import Dense, Layer, Conv2D, Dense, MaxPooling2D, Input, Flatten\n",
    "from keras.models import Sequential, load_model, Model\n",
    "from datasets import load_dataset\n",
    "\n",
    "from src.models import make_embedding, make_siamese_model\n",
    "from src.helpers.setup import set_gpus_growth\n",
    "\n",
    "set_gpus_growth()"
   ]
  },
  {
   "attachments": {},
   "cell_type": "markdown",
   "metadata": {},
   "source": [
    "## Get data from Hugging Face"
   ]
  },
  {
   "cell_type": "code",
   "execution_count": 35,
   "metadata": {},
   "outputs": [
    {
     "name": "stderr",
     "output_type": "stream",
     "text": [
      "Using custom data configuration photonsquid--coins-euro-6a59027cbfa69f38\n",
      "Found cached dataset parquet (/root/.cache/huggingface/datasets/photonsquid___parquet/photonsquid--coins-euro-6a59027cbfa69f38/0.0.0/2a3b91fbd88a2c90d1dbbb32b460cf621d31bd5b05b934492fdef7d8d6f236ec)\n"
     ]
    },
    {
     "data": {
      "application/vnd.jupyter.widget-view+json": {
       "model_id": "c3a5cd9b86224749bd066443f2ba4244",
       "version_major": 2,
       "version_minor": 0
      },
      "text/plain": [
       "  0%|          | 0/3 [00:00<?, ?it/s]"
      ]
     },
     "metadata": {},
     "output_type": "display_data"
    }
   ],
   "source": [
    "dataset = load_dataset('photonsquid/coins-euro')\n",
    "dataset = dataset.with_format('tf')"
   ]
  },
  {
   "cell_type": "code",
   "execution_count": null,
   "metadata": {},
   "outputs": [],
   "source": [
    "# Split the dataset into train and test\n",
    "train_dataset = dataset['train']\n",
    "test_dataset = dataset['test']\n",
    "\n",
    "# we've got a siaesme model, so we need to create a dataset with pairs of images\n",
    "# and a label that indicates if the images are positive or negative examples\n",
    "\n",
    "# we'll use the following function to create the pairs\n",
    "def create_pairs(x, y):\n",
    "    \"\"\"Create positive and negative pairs from two arrays\"\"\"\n",
    "    # create an empty list for the pairs\n",
    "    pairs = []\n",
    "    # create an empty list for the labels\n",
    "    labels = []\n",
    "    # create a list of unique classes\n",
    "    classes = np.unique(y)\n",
    "    # loop over the classes\n",
    "    for c in classes:\n",
    "        # find the indices of the images with the current class\n",
    "        idx = np.where(y == c)[0]\n",
    "        # loop over the indices\n",
    "        for i in range(len(idx)):\n",
    "            # get the current index\n",
    "            z1, z2 = idx[i], idx[(i + 1) % len(idx)]\n",
    "            # add the pair to the list of pairs\n",
    "            pairs += [[x[z1], x[z2]]]\n",
    "            # add the label to the list of labels\n",
    "            inc = random.randrange(1, len(classes))\n",
    "            dn = (c + inc) % len(classes)\n",
    "            labels += [c == dn]\n",
    "    # convert the pairs and labels to numpy arrays\n",
    "    pairs = np.array(pairs)\n",
    "    labels = np.array(labels)\n",
    "    # return the pairs and labels\n",
    "    return pairs, labels\n",
    "\n",
    "# create the pairs and labels for the training dataset\n",
    "train_pairs, train_labels = create_pairs(train_dataset['image'], train_dataset['label'])\n",
    "\n",
    "# create the pairs and labels for the testing dataset\n",
    "test_pairs, test_labels = create_pairs(test_dataset['image'], test_dataset['label'])\n",
    "\n",
    "# prepare the dataset for training\n",
    "train_dataset = train_dataset.shuffle(1000)\n",
    "train_dataset = train_dataset.batch(32)\n",
    "train_dataset = train_dataset.prefetch(tf.data.experimental.AUTOTUNE)\n",
    "\n",
    "# prepare the dataset for testing\n",
    "test_dataset = test_dataset.shuffle(1000)\n",
    "test_dataset = test_dataset.batch(32)\n",
    "test_dataset = test_dataset.prefetch(tf.data.experimental.AUTOTUNE)\n"
   ]
  }
 ],
 "metadata": {
  "kernelspec": {
   "display_name": "Python 3 (ipykernel)",
   "language": "python",
   "name": "python3"
  },
  "language_info": {
   "codemirror_mode": {
    "name": "ipython",
    "version": 3
   },
   "file_extension": ".py",
   "mimetype": "text/x-python",
   "name": "python",
   "nbconvert_exporter": "python",
   "pygments_lexer": "ipython3",
   "version": "3.9.13"
  },
  "orig_nbformat": 4,
  "vscode": {
   "interpreter": {
    "hash": "31f2aee4e71d21fbe5cf8b01ff0e069b9275f58929596ceb00d14d90e3e16cd6"
   }
  }
 },
 "nbformat": 4,
 "nbformat_minor": 2
}
