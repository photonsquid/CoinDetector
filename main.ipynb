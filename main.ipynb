{
 "cells": [
  {
   "attachments": {},
   "cell_type": "markdown",
   "metadata": {},
   "source": [
    "# Recoinize"
   ]
  },
  {
   "attachments": {},
   "cell_type": "markdown",
   "metadata": {},
   "source": [
    "[https://github.com/nicknochnack/FaceRecognition](https://github.com/nicknochnack/FaceRecognition/blob/main/Facial%20Verification%20with%20a%20Siamese%20Network%20-%20Final.ipynb)"
   ]
  },
  {
   "attachments": {},
   "cell_type": "markdown",
   "metadata": {},
   "source": [
    "# Setup"
   ]
  },
  {
   "attachments": {},
   "cell_type": "markdown",
   "metadata": {},
   "source": [
    "## Pull code from GitHub"
   ]
  },
  {
   "cell_type": "code",
   "execution_count": null,
   "metadata": {},
   "outputs": [],
   "source": [
    "from src.helpers.cmd import git_update, print_gpu_name\n",
    "from src.helpers.install import install_requirements\n",
    "git_update(\"live-edit\", force=False, show_output=False)\n",
    "# install_requirements()"
   ]
  },
  {
   "cell_type": "code",
   "execution_count": 6,
   "metadata": {},
   "outputs": [
    {
     "data": {
      "text/plain": [
       "'NVIDIA RTX A4000\\n'"
      ]
     },
     "execution_count": 6,
     "metadata": {},
     "output_type": "execute_result"
    }
   ],
   "source": [
    "print_gpu_name()"
   ]
  },
  {
   "attachments": {},
   "cell_type": "markdown",
   "metadata": {},
   "source": [
    "## Import dependencies"
   ]
  },
  {
   "cell_type": "code",
   "execution_count": 1,
   "metadata": {},
   "outputs": [],
   "source": [
    "testing = True"
   ]
  },
  {
   "cell_type": "code",
   "execution_count": 9,
   "metadata": {},
   "outputs": [
    {
     "name": "stdout",
     "output_type": "stream",
     "text": [
      "Testing mode, skipping tensorflow imports\n",
      "The autoreload extension is already loaded. To reload it, use:\n",
      "  %reload_ext autoreload\n"
     ]
    }
   ],
   "source": [
    "# Import standard dependencies\n",
    "import cv2\n",
    "import os\n",
    "import random\n",
    "import numpy as np\n",
    "from matplotlib import pyplot as plt\n",
    "\n",
    "# Import tensorflow dependencies - Functional API\n",
    "if not testing:\n",
    "    import tensorflow as tf\n",
    "    from tensorflow import keras\n",
    "    from keras.layers import Dense, Layer, Conv2D, Dense, MaxPooling2D, Input, Flatten\n",
    "    from keras.models import Sequential, load_model, Model\n",
    "    from datasets import load_dataset\n",
    "\n",
    "    from src.models import make_embedding, make_siamese_model\n",
    "    from src.helpers.setup import set_gpus_growth\n",
    "    from src.helpers.dataset import create_pairs\n",
    "    from src.helpers.preprocess import preprocess\n",
    "\n",
    "    set_gpus_growth()\n",
    "else:\n",
    "    print(\"Testing mode, skipping tensorflow imports\")\n",
    "    %load_ext autoreload\n",
    "    %autoreload 2\n",
    "    from src.helpers.load_data import load_data\n",
    "    from src.dataset import create_pairs\n"
   ]
  },
  {
   "attachments": {},
   "cell_type": "markdown",
   "metadata": {},
   "source": [
    "# Get and preprocess data"
   ]
  },
  {
   "cell_type": "code",
   "execution_count": 5,
   "metadata": {},
   "outputs": [],
   "source": [
    "# Load the dataset from HuggingFace\n",
    "if not testing:\n",
    "    dataset = load_dataset('photonsquid/coins-euro')\n",
    "    dataset = dataset.with_format('tf')\n",
    "else:\n",
    "    # load data from local files\n",
    "    dataset = load_data(\"data/tests\")\n"
   ]
  },
  {
   "cell_type": "code",
   "execution_count": 6,
   "metadata": {},
   "outputs": [],
   "source": [
    "# Split the dataset into train and test\n",
    "train_dataset = dataset['train']\n",
    "test_dataset = dataset['test']"
   ]
  },
  {
   "cell_type": "code",
   "execution_count": null,
   "metadata": {},
   "outputs": [],
   "source": [
    "# Preprocess the data\n",
    "train_dataset['image'].map(preprocess)\n",
    "test_dataset['image'].map(preprocess)"
   ]
  },
  {
   "cell_type": "code",
   "execution_count": 11,
   "metadata": {},
   "outputs": [
    {
     "ename": "TypeError",
     "evalue": "list indices must be integers or slices, not str",
     "output_type": "error",
     "traceback": [
      "\u001b[0;31m---------------------------------------------------------------------------\u001b[0m",
      "\u001b[0;31mTypeError\u001b[0m                                 Traceback (most recent call last)",
      "Cell \u001b[0;32mIn [11], line 2\u001b[0m\n\u001b[1;32m      1\u001b[0m \u001b[39m# create the pairs and labels for the training dataset\u001b[39;00m\n\u001b[0;32m----> 2\u001b[0m create_pairs(train_dataset)\n",
      "File \u001b[0;32m~/repos/cours/06-mdl/Recoinize/src/dataset.py:126\u001b[0m, in \u001b[0;36mcreate_pairs\u001b[0;34m(dataset)\u001b[0m\n\u001b[1;32m    120\u001b[0m     images[country][\u001b[39m\"\u001b[39m\u001b[39mcoins\u001b[39m\u001b[39m\"\u001b[39m]\u001b[39m.\u001b[39mappend({\n\u001b[1;32m    121\u001b[0m         \u001b[39m\"\u001b[39m\u001b[39mvalue\u001b[39m\u001b[39m\"\u001b[39m: value,\n\u001b[1;32m    122\u001b[0m         \u001b[39m\"\u001b[39m\u001b[39mspecificities\u001b[39m\u001b[39m\"\u001b[39m: []\n\u001b[1;32m    123\u001b[0m     })\n\u001b[1;32m    125\u001b[0m \u001b[39m# if the specificity is not in the specificities list, add it\u001b[39;00m\n\u001b[0;32m--> 126\u001b[0m \u001b[39mif\u001b[39;00m specificity \u001b[39mnot\u001b[39;00m \u001b[39min\u001b[39;00m images[country][\u001b[39m\"\u001b[39;49m\u001b[39mcoins\u001b[39;49m\u001b[39m\"\u001b[39;49m][value][\u001b[39m\"\u001b[39m\u001b[39mspecificities\u001b[39m\u001b[39m\"\u001b[39m]:\n\u001b[1;32m    127\u001b[0m     images[country][\u001b[39m\"\u001b[39m\u001b[39mcoins\u001b[39m\u001b[39m\"\u001b[39m][value][\u001b[39m\"\u001b[39m\u001b[39mspecificities\u001b[39m\u001b[39m\"\u001b[39m]\u001b[39m.\u001b[39mappend({\n\u001b[1;32m    128\u001b[0m         \u001b[39m\"\u001b[39m\u001b[39mspecificity\u001b[39m\u001b[39m\"\u001b[39m: specificity,\n\u001b[1;32m    129\u001b[0m         \u001b[39m\"\u001b[39m\u001b[39mimages\u001b[39m\u001b[39m\"\u001b[39m: []\n\u001b[1;32m    130\u001b[0m     })\n\u001b[1;32m    132\u001b[0m \u001b[39m# add the image to the images dictionary\u001b[39;00m\n",
      "\u001b[0;31mTypeError\u001b[0m: list indices must be integers or slices, not str"
     ]
    }
   ],
   "source": [
    "# create the pairs and labels for the training dataset\n",
    "create_pairs(train_dataset)"
   ]
  },
  {
   "cell_type": "code",
   "execution_count": null,
   "metadata": {},
   "outputs": [],
   "source": [
    "# prepare the dataset for training\n",
    "train_dataset = train_dataset.shuffle(1000)\n",
    "train_dataset = train_dataset.batch(32)\n",
    "train_dataset = train_dataset.prefetch(tf.data.experimental.AUTOTUNE)\n",
    "\n",
    "# prepare the dataset for testing\n",
    "test_dataset = test_dataset.shuffle(1000)\n",
    "test_dataset = test_dataset.batch(32)\n",
    "test_dataset = test_dataset.prefetch(tf.data.experimental.AUTOTUNE)"
   ]
  }
 ],
 "metadata": {
  "kernelspec": {
   "display_name": "Python 3",
   "language": "python",
   "name": "python3"
  },
  "language_info": {
   "codemirror_mode": {
    "name": "ipython",
    "version": 3
   },
   "file_extension": ".py",
   "mimetype": "text/x-python",
   "name": "python",
   "nbconvert_exporter": "python",
   "pygments_lexer": "ipython3",
   "version": "3.10.6"
  },
  "orig_nbformat": 4,
  "vscode": {
   "interpreter": {
    "hash": "916dbcbb3f70747c44a77c7bcd40155683ae19c65e1c03b4aa3499c5328201f1"
   }
  }
 },
 "nbformat": 4,
 "nbformat_minor": 2
}
