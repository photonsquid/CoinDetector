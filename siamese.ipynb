{
 "cells": [
  {
   "attachments": {},
   "cell_type": "markdown",
   "metadata": {},
   "source": [
    "# Recoinize Siamaese Network"
   ]
  },
  {
   "attachments": {},
   "cell_type": "markdown",
   "metadata": {},
   "source": [
    "For more informations, please visit [recoinize.photonsquid.fr](https://recoinize.photonsquid.fr).\n",
    "\n",
    "## Summary\n",
    "\n",
    "- [Setup everything](#Setup-everything)\n",
    "- Build model\n",
    "- Train model\n",
    "- Evaluate model\n",
    "- Save model"
   ]
  },
  {
   "attachments": {},
   "cell_type": "markdown",
   "metadata": {},
   "source": [
    "## Setup everything"
   ]
  },
  {
   "attachments": {},
   "cell_type": "markdown",
   "metadata": {},
   "source": [
    "### Settings"
   ]
  },
  {
   "cell_type": "code",
   "execution_count": 43,
   "metadata": {
    "vscode": {
     "languageId": "python"
    }
   },
   "outputs": [],
   "source": [
    "MODE = 'dev' # 'dev' or 'prod'\n",
    "LOG_LEVEL = \"info\"\n",
    "DATASET_SOURCE = \"huggingface\"\n",
    "DATASET_NAME = \"photonsquid/coins-euro\""
   ]
  }
 ],
 "metadata": {
  "kernelspec": {
   "display_name": "Python 3 (ipykernel)",
   "language": "python",
   "name": "python3"
  },
  "orig_nbformat": 4
 },
 "nbformat": 4,
 "nbformat_minor": 2
}
